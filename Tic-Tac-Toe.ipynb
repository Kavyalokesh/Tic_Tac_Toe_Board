{
 "cells": [
  {
   "cell_type": "code",
   "execution_count": 1,
   "id": "3e3fdb7d",
   "metadata": {},
   "outputs": [
    {
     "name": "stdout",
     "output_type": "stream",
     "text": [
      "[1, 2, 3]\n",
      "[4, 5, 6]\n"
     ]
    }
   ],
   "source": [
    "print([1,2,3])\n",
    "print([4,5,6])\n",
    "def myfun(row1,row2,row3):\n",
    "    print(row1)\n",
    "    print(row2)\n",
    "    print(row3)"
   ]
  },
  {
   "cell_type": "code",
   "execution_count": 2,
   "id": "10185547",
   "metadata": {},
   "outputs": [
    {
     "name": "stdout",
     "output_type": "stream",
     "text": [
      "[' ', ' ', ' ']\n",
      "[' ', ' ', ' ']\n",
      "[' ', ' ', ' ']\n"
     ]
    }
   ],
   "source": [
    "row1= [' ' ,' ' ,' ']\n",
    "row2= [' ' , ' ',' ']\n",
    "row3= [' ' ,' ' ,' ']\n",
    "myfun(row1,row2,row3)\n"
   ]
  },
  {
   "cell_type": "code",
   "execution_count": 4,
   "id": "d0b534c8",
   "metadata": {},
   "outputs": [
    {
     "name": "stdout",
     "output_type": "stream",
     "text": [
      "[' ', ' ', ' ']\n",
      "[' ', 'x', ' ']\n",
      "[' ', ' ', ' ']\n"
     ]
    }
   ],
   "source": [
    "row2[1]= 'x'\n",
    "myfun(row1,row2,row3)"
   ]
  },
  {
   "cell_type": "code",
   "execution_count": 5,
   "id": "a8d1573e",
   "metadata": {},
   "outputs": [
    {
     "name": "stdout",
     "output_type": "stream",
     "text": [
      "pls enter position index: 3\n"
     ]
    }
   ],
   "source": [
    "position_index= int(input('pls enter position index: '))"
   ]
  },
  {
   "cell_type": "code",
   "execution_count": 6,
   "id": "de2a3806",
   "metadata": {},
   "outputs": [],
   "source": [
    "def user_input():\n",
    "    position_index='wrong'\n",
    "    acceptable_range= range(10)\n",
    "    within_range= False\n",
    "    while position_index.isdigit()== False or within_range== False:\n",
    "        position_index= input('pls enter position index: ')\n",
    "        if position_index.isdigit()== False:\n",
    "            print('sorry thats string')\n",
    "        if position_index.isdigit()== True: \n",
    "            if int(position_index) in acceptable_range:  \n",
    "                within_range= True\n",
    "            else:\n",
    "                within_range= False\n",
    "                print('sorry out of range')\n",
    "    return int(position_index)"
   ]
  },
  {
   "cell_type": "code",
   "execution_count": 7,
   "id": "763067a5",
   "metadata": {},
   "outputs": [
    {
     "name": "stdout",
     "output_type": "stream",
     "text": [
      "pls enter position index: two\n",
      "sorry thats string\n",
      "pls enter position index: 15\n",
      "sorry out of range\n",
      "pls enter position index: 3\n"
     ]
    },
    {
     "data": {
      "text/plain": [
       "3"
      ]
     },
     "execution_count": 7,
     "metadata": {},
     "output_type": "execute_result"
    }
   ],
   "source": [
    "user_input()"
   ]
  },
  {
   "cell_type": "code",
   "execution_count": null,
   "id": "f86812b8",
   "metadata": {},
   "outputs": [],
   "source": []
  }
 ],
 "metadata": {
  "kernelspec": {
   "display_name": "Python 3",
   "language": "python",
   "name": "python3"
  },
  "language_info": {
   "codemirror_mode": {
    "name": "ipython",
    "version": 3
   },
   "file_extension": ".py",
   "mimetype": "text/x-python",
   "name": "python",
   "nbconvert_exporter": "python",
   "pygments_lexer": "ipython3",
   "version": "3.8.8"
  }
 },
 "nbformat": 4,
 "nbformat_minor": 5
}
